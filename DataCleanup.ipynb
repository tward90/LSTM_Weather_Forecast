{
 "cells": [
  {
   "cell_type": "code",
   "execution_count": 23,
   "metadata": {},
   "outputs": [],
   "source": [
    "import pandas as pd\n",
    "import numpy as np\n",
    "import matplotlib.pyplot as plt\n",
    "from sklearn.neighbors import KNeighborsRegressor\n",
    "from sklearn.neighbors import KNeighborsClassifier\n",
    "from sklearn.model_selection import train_test_split\n",
    "from sklearn.preprocessing import StandardScaler\n",
    "\n",
    "import datetime as dt"
   ]
  },
  {
   "cell_type": "code",
   "execution_count": 2,
   "metadata": {},
   "outputs": [
    {
     "output_type": "stream",
     "name": "stdout",
     "text": [
      "<class 'pandas.core.frame.DataFrame'>\nRangeIndex: 109897 entries, 0 to 109896\nData columns (total 21 columns):\n #   Column                Non-Null Count   Dtype  \n---  ------                --------------   -----  \n 0   year                  109897 non-null  int64  \n 1   mo                    109897 non-null  int64  \n 2   da                    109897 non-null  int64  \n 3   temp                  109897 non-null  float64\n 4   dewp                  105381 non-null  float64\n 5   slp                   81761 non-null   float64\n 6   stp                   61606 non-null   float64\n 7   visib                 106936 non-null  float64\n 8   wdsp                  109419 non-null  float64\n 9   mxpsd                 108153 non-null  float64\n 10  gust                  44051 non-null   float64\n 11  max                   109880 non-null  float64\n 12  min                   109884 non-null  float64\n 13  prcp                  109897 non-null  float64\n 14  sndp                  77 non-null      float64\n 15  fog                   109897 non-null  int64  \n 16  rain_drizzle          109897 non-null  int64  \n 17  snow_ice_pellets      109897 non-null  int64  \n 18  hail                  109897 non-null  int64  \n 19  thunder               109897 non-null  int64  \n 20  tornado_funnel_cloud  109897 non-null  int64  \ndtypes: float64(12), int64(9)\nmemory usage: 17.6 MB\n"
     ]
    }
   ],
   "source": [
    "df = pd.read_csv(\"bq-results.csv\", na_values=[9999.9, 999.9])\n",
    "df.info()"
   ]
  },
  {
   "cell_type": "code",
   "execution_count": 4,
   "metadata": {},
   "outputs": [
    {
     "output_type": "stream",
     "name": "stdout",
     "text": [
      "<class 'pandas.core.frame.DataFrame'>\nInt64Index: 79409 entries, 56 to 109896\nData columns (total 17 columns):\n #   Column            Non-Null Count  Dtype  \n---  ------            --------------  -----  \n 0   year              79409 non-null  int64  \n 1   mo                79409 non-null  int64  \n 2   da                79409 non-null  int64  \n 3   temp              79409 non-null  float64\n 4   dewp              79409 non-null  float64\n 5   slp               79409 non-null  float64\n 6   visib             79409 non-null  float64\n 7   wdsp              79409 non-null  float64\n 8   mxpsd             79409 non-null  float64\n 9   max               79409 non-null  float64\n 10  min               79409 non-null  float64\n 11  prcp              79409 non-null  float64\n 12  fog               79409 non-null  int64  \n 13  rain_drizzle      79409 non-null  int64  \n 14  snow_ice_pellets  79409 non-null  int64  \n 15  hail              79409 non-null  int64  \n 16  thunder           79409 non-null  int64  \ndtypes: float64(9), int64(8)\nmemory usage: 10.9 MB\n"
     ]
    }
   ],
   "source": [
    "df_drop = df.drop([\"stp\", \"gust\", \"tornado_funnel_cloud\", \"sndp\"], axis=1)\n",
    "df_drop = df_drop.dropna()\n",
    "df_drop.info()"
   ]
  },
  {
   "cell_type": "code",
   "execution_count": 5,
   "metadata": {},
   "outputs": [
    {
     "output_type": "execute_result",
     "data": {
      "text/plain": [
       "     year  mo  da  temp  dewp     slp  visib  wdsp  mxpsd   max   min  prcp  \\\n",
       "56   2016  10  27  71.7  59.5  1021.3    8.9   4.2    8.9  84.0  60.1  0.00   \n",
       "59   2016   3  30  73.2  71.1  1011.1    6.3  10.2   17.1  77.0  71.1  0.06   \n",
       "70   2016   6  28  84.2  74.9  1017.0    8.1   3.0   15.9  93.9  77.0  0.00   \n",
       "197  2016   9  18  86.3  75.9  1014.6    9.8   2.6    8.9  99.0  77.0  0.00   \n",
       "198  2016  12  18  50.3  35.6  1022.0    9.1  13.5   21.0  78.1  37.9  0.02   \n",
       "\n",
       "     fog  rain_drizzle  snow_ice_pellets  hail  thunder  \n",
       "56     1             0                 0     0        0  \n",
       "59     0             1                 0     0        0  \n",
       "70     1             1                 0     0        1  \n",
       "197    0             0                 0     0        0  \n",
       "198    0             1                 0     0        0  "
      ],
      "text/html": "<div>\n<style scoped>\n    .dataframe tbody tr th:only-of-type {\n        vertical-align: middle;\n    }\n\n    .dataframe tbody tr th {\n        vertical-align: top;\n    }\n\n    .dataframe thead th {\n        text-align: right;\n    }\n</style>\n<table border=\"1\" class=\"dataframe\">\n  <thead>\n    <tr style=\"text-align: right;\">\n      <th></th>\n      <th>year</th>\n      <th>mo</th>\n      <th>da</th>\n      <th>temp</th>\n      <th>dewp</th>\n      <th>slp</th>\n      <th>visib</th>\n      <th>wdsp</th>\n      <th>mxpsd</th>\n      <th>max</th>\n      <th>min</th>\n      <th>prcp</th>\n      <th>fog</th>\n      <th>rain_drizzle</th>\n      <th>snow_ice_pellets</th>\n      <th>hail</th>\n      <th>thunder</th>\n    </tr>\n  </thead>\n  <tbody>\n    <tr>\n      <th>56</th>\n      <td>2016</td>\n      <td>10</td>\n      <td>27</td>\n      <td>71.7</td>\n      <td>59.5</td>\n      <td>1021.3</td>\n      <td>8.9</td>\n      <td>4.2</td>\n      <td>8.9</td>\n      <td>84.0</td>\n      <td>60.1</td>\n      <td>0.00</td>\n      <td>1</td>\n      <td>0</td>\n      <td>0</td>\n      <td>0</td>\n      <td>0</td>\n    </tr>\n    <tr>\n      <th>59</th>\n      <td>2016</td>\n      <td>3</td>\n      <td>30</td>\n      <td>73.2</td>\n      <td>71.1</td>\n      <td>1011.1</td>\n      <td>6.3</td>\n      <td>10.2</td>\n      <td>17.1</td>\n      <td>77.0</td>\n      <td>71.1</td>\n      <td>0.06</td>\n      <td>0</td>\n      <td>1</td>\n      <td>0</td>\n      <td>0</td>\n      <td>0</td>\n    </tr>\n    <tr>\n      <th>70</th>\n      <td>2016</td>\n      <td>6</td>\n      <td>28</td>\n      <td>84.2</td>\n      <td>74.9</td>\n      <td>1017.0</td>\n      <td>8.1</td>\n      <td>3.0</td>\n      <td>15.9</td>\n      <td>93.9</td>\n      <td>77.0</td>\n      <td>0.00</td>\n      <td>1</td>\n      <td>1</td>\n      <td>0</td>\n      <td>0</td>\n      <td>1</td>\n    </tr>\n    <tr>\n      <th>197</th>\n      <td>2016</td>\n      <td>9</td>\n      <td>18</td>\n      <td>86.3</td>\n      <td>75.9</td>\n      <td>1014.6</td>\n      <td>9.8</td>\n      <td>2.6</td>\n      <td>8.9</td>\n      <td>99.0</td>\n      <td>77.0</td>\n      <td>0.00</td>\n      <td>0</td>\n      <td>0</td>\n      <td>0</td>\n      <td>0</td>\n      <td>0</td>\n    </tr>\n    <tr>\n      <th>198</th>\n      <td>2016</td>\n      <td>12</td>\n      <td>18</td>\n      <td>50.3</td>\n      <td>35.6</td>\n      <td>1022.0</td>\n      <td>9.1</td>\n      <td>13.5</td>\n      <td>21.0</td>\n      <td>78.1</td>\n      <td>37.9</td>\n      <td>0.02</td>\n      <td>0</td>\n      <td>1</td>\n      <td>0</td>\n      <td>0</td>\n      <td>0</td>\n    </tr>\n  </tbody>\n</table>\n</div>"
     },
     "metadata": {},
     "execution_count": 5
    }
   ],
   "source": [
    "df_drop.head()"
   ]
  },
  {
   "cell_type": "code",
   "execution_count": 6,
   "metadata": {},
   "outputs": [
    {
     "output_type": "execute_result",
     "data": {
      "text/plain": [
       "     year  month  day  temp  dewp     slp  visib  wdsp  mxpsd   max   min  \\\n",
       "56   2016     10   27  71.7  59.5  1021.3    8.9   4.2    8.9  84.0  60.1   \n",
       "59   2016      3   30  73.2  71.1  1011.1    6.3  10.2   17.1  77.0  71.1   \n",
       "70   2016      6   28  84.2  74.9  1017.0    8.1   3.0   15.9  93.9  77.0   \n",
       "197  2016      9   18  86.3  75.9  1014.6    9.8   2.6    8.9  99.0  77.0   \n",
       "198  2016     12   18  50.3  35.6  1022.0    9.1  13.5   21.0  78.1  37.9   \n",
       "\n",
       "     prcp  fog  rain_drizzle  snow_ice_pellets  hail  thunder       Date  \n",
       "56   0.00    1             0                 0     0        0 2016-10-27  \n",
       "59   0.06    0             1                 0     0        0 2016-03-30  \n",
       "70   0.00    1             1                 0     0        1 2016-06-28  \n",
       "197  0.00    0             0                 0     0        0 2016-09-18  \n",
       "198  0.02    0             1                 0     0        0 2016-12-18  "
      ],
      "text/html": "<div>\n<style scoped>\n    .dataframe tbody tr th:only-of-type {\n        vertical-align: middle;\n    }\n\n    .dataframe tbody tr th {\n        vertical-align: top;\n    }\n\n    .dataframe thead th {\n        text-align: right;\n    }\n</style>\n<table border=\"1\" class=\"dataframe\">\n  <thead>\n    <tr style=\"text-align: right;\">\n      <th></th>\n      <th>year</th>\n      <th>month</th>\n      <th>day</th>\n      <th>temp</th>\n      <th>dewp</th>\n      <th>slp</th>\n      <th>visib</th>\n      <th>wdsp</th>\n      <th>mxpsd</th>\n      <th>max</th>\n      <th>min</th>\n      <th>prcp</th>\n      <th>fog</th>\n      <th>rain_drizzle</th>\n      <th>snow_ice_pellets</th>\n      <th>hail</th>\n      <th>thunder</th>\n      <th>Date</th>\n    </tr>\n  </thead>\n  <tbody>\n    <tr>\n      <th>56</th>\n      <td>2016</td>\n      <td>10</td>\n      <td>27</td>\n      <td>71.7</td>\n      <td>59.5</td>\n      <td>1021.3</td>\n      <td>8.9</td>\n      <td>4.2</td>\n      <td>8.9</td>\n      <td>84.0</td>\n      <td>60.1</td>\n      <td>0.00</td>\n      <td>1</td>\n      <td>0</td>\n      <td>0</td>\n      <td>0</td>\n      <td>0</td>\n      <td>2016-10-27</td>\n    </tr>\n    <tr>\n      <th>59</th>\n      <td>2016</td>\n      <td>3</td>\n      <td>30</td>\n      <td>73.2</td>\n      <td>71.1</td>\n      <td>1011.1</td>\n      <td>6.3</td>\n      <td>10.2</td>\n      <td>17.1</td>\n      <td>77.0</td>\n      <td>71.1</td>\n      <td>0.06</td>\n      <td>0</td>\n      <td>1</td>\n      <td>0</td>\n      <td>0</td>\n      <td>0</td>\n      <td>2016-03-30</td>\n    </tr>\n    <tr>\n      <th>70</th>\n      <td>2016</td>\n      <td>6</td>\n      <td>28</td>\n      <td>84.2</td>\n      <td>74.9</td>\n      <td>1017.0</td>\n      <td>8.1</td>\n      <td>3.0</td>\n      <td>15.9</td>\n      <td>93.9</td>\n      <td>77.0</td>\n      <td>0.00</td>\n      <td>1</td>\n      <td>1</td>\n      <td>0</td>\n      <td>0</td>\n      <td>1</td>\n      <td>2016-06-28</td>\n    </tr>\n    <tr>\n      <th>197</th>\n      <td>2016</td>\n      <td>9</td>\n      <td>18</td>\n      <td>86.3</td>\n      <td>75.9</td>\n      <td>1014.6</td>\n      <td>9.8</td>\n      <td>2.6</td>\n      <td>8.9</td>\n      <td>99.0</td>\n      <td>77.0</td>\n      <td>0.00</td>\n      <td>0</td>\n      <td>0</td>\n      <td>0</td>\n      <td>0</td>\n      <td>0</td>\n      <td>2016-09-18</td>\n    </tr>\n    <tr>\n      <th>198</th>\n      <td>2016</td>\n      <td>12</td>\n      <td>18</td>\n      <td>50.3</td>\n      <td>35.6</td>\n      <td>1022.0</td>\n      <td>9.1</td>\n      <td>13.5</td>\n      <td>21.0</td>\n      <td>78.1</td>\n      <td>37.9</td>\n      <td>0.02</td>\n      <td>0</td>\n      <td>1</td>\n      <td>0</td>\n      <td>0</td>\n      <td>0</td>\n      <td>2016-12-18</td>\n    </tr>\n  </tbody>\n</table>\n</div>"
     },
     "metadata": {},
     "execution_count": 6
    }
   ],
   "source": [
    "dfr = df_drop.rename(columns={\"mo\":\"month\", \"da\":\"day\"})\n",
    "dfr[\"Date\"] = pd.to_datetime(dfr[[\"year\", \"month\", \"day\"]])\n",
    "dfr.head()"
   ]
  },
  {
   "cell_type": "code",
   "execution_count": 8,
   "metadata": {},
   "outputs": [
    {
     "output_type": "execute_result",
     "data": {
      "text/plain": [
       "   year  month  day  temp  dewp     slp  visib  wdsp  mxpsd   max   min  \\\n",
       "0  1941      7    1  84.3  75.0  1015.4   83.7   6.4   16.9  93.4  75.4   \n",
       "1  1941      7    2  83.3  75.1  1016.6   75.8   7.0   15.0  92.3  76.3   \n",
       "2  1941      7    3  85.6  73.8  1016.5   19.8   7.5   13.0  93.4  76.3   \n",
       "3  1941      7    4  86.6  71.5  1014.4   87.2   9.0   21.0  92.3  75.4   \n",
       "4  1941      7    5  84.6  69.7  1012.6   14.3  10.3   13.0  91.2  74.3   \n",
       "\n",
       "    prcp  fog  rain_drizzle  snow_ice_pellets  hail  thunder       Date  \n",
       "0  99.99    0             1                 0     0        1 1941-07-01  \n",
       "1   0.00    0             0                 0     0        1 1941-07-02  \n",
       "2   0.00    0             0                 0     0        0 1941-07-03  \n",
       "3   0.00    0             0                 0     0        0 1941-07-04  \n",
       "4   0.00    0             0                 0     0        0 1941-07-05  "
      ],
      "text/html": "<div>\n<style scoped>\n    .dataframe tbody tr th:only-of-type {\n        vertical-align: middle;\n    }\n\n    .dataframe tbody tr th {\n        vertical-align: top;\n    }\n\n    .dataframe thead th {\n        text-align: right;\n    }\n</style>\n<table border=\"1\" class=\"dataframe\">\n  <thead>\n    <tr style=\"text-align: right;\">\n      <th></th>\n      <th>year</th>\n      <th>month</th>\n      <th>day</th>\n      <th>temp</th>\n      <th>dewp</th>\n      <th>slp</th>\n      <th>visib</th>\n      <th>wdsp</th>\n      <th>mxpsd</th>\n      <th>max</th>\n      <th>min</th>\n      <th>prcp</th>\n      <th>fog</th>\n      <th>rain_drizzle</th>\n      <th>snow_ice_pellets</th>\n      <th>hail</th>\n      <th>thunder</th>\n      <th>Date</th>\n    </tr>\n  </thead>\n  <tbody>\n    <tr>\n      <th>0</th>\n      <td>1941</td>\n      <td>7</td>\n      <td>1</td>\n      <td>84.3</td>\n      <td>75.0</td>\n      <td>1015.4</td>\n      <td>83.7</td>\n      <td>6.4</td>\n      <td>16.9</td>\n      <td>93.4</td>\n      <td>75.4</td>\n      <td>99.99</td>\n      <td>0</td>\n      <td>1</td>\n      <td>0</td>\n      <td>0</td>\n      <td>1</td>\n      <td>1941-07-01</td>\n    </tr>\n    <tr>\n      <th>1</th>\n      <td>1941</td>\n      <td>7</td>\n      <td>2</td>\n      <td>83.3</td>\n      <td>75.1</td>\n      <td>1016.6</td>\n      <td>75.8</td>\n      <td>7.0</td>\n      <td>15.0</td>\n      <td>92.3</td>\n      <td>76.3</td>\n      <td>0.00</td>\n      <td>0</td>\n      <td>0</td>\n      <td>0</td>\n      <td>0</td>\n      <td>1</td>\n      <td>1941-07-02</td>\n    </tr>\n    <tr>\n      <th>2</th>\n      <td>1941</td>\n      <td>7</td>\n      <td>3</td>\n      <td>85.6</td>\n      <td>73.8</td>\n      <td>1016.5</td>\n      <td>19.8</td>\n      <td>7.5</td>\n      <td>13.0</td>\n      <td>93.4</td>\n      <td>76.3</td>\n      <td>0.00</td>\n      <td>0</td>\n      <td>0</td>\n      <td>0</td>\n      <td>0</td>\n      <td>0</td>\n      <td>1941-07-03</td>\n    </tr>\n    <tr>\n      <th>3</th>\n      <td>1941</td>\n      <td>7</td>\n      <td>4</td>\n      <td>86.6</td>\n      <td>71.5</td>\n      <td>1014.4</td>\n      <td>87.2</td>\n      <td>9.0</td>\n      <td>21.0</td>\n      <td>92.3</td>\n      <td>75.4</td>\n      <td>0.00</td>\n      <td>0</td>\n      <td>0</td>\n      <td>0</td>\n      <td>0</td>\n      <td>0</td>\n      <td>1941-07-04</td>\n    </tr>\n    <tr>\n      <th>4</th>\n      <td>1941</td>\n      <td>7</td>\n      <td>5</td>\n      <td>84.6</td>\n      <td>69.7</td>\n      <td>1012.6</td>\n      <td>14.3</td>\n      <td>10.3</td>\n      <td>13.0</td>\n      <td>91.2</td>\n      <td>74.3</td>\n      <td>0.00</td>\n      <td>0</td>\n      <td>0</td>\n      <td>0</td>\n      <td>0</td>\n      <td>0</td>\n      <td>1941-07-05</td>\n    </tr>\n  </tbody>\n</table>\n</div>"
     },
     "metadata": {},
     "execution_count": 8
    }
   ],
   "source": [
    "dfr = dfr.sort_values(\"Date\", ignore_index=True)\n",
    "dfr.head()\n"
   ]
  },
  {
   "cell_type": "code",
   "execution_count": 11,
   "metadata": {},
   "outputs": [
    {
     "output_type": "execute_result",
     "data": {
      "text/plain": [
       "        Date    year  month  day  temp  dewp     slp  visib  wdsp  mxpsd  \\\n",
       "0 1941-07-01  1941.0    7.0  1.0  84.3  75.0  1015.4   83.7   6.4   16.9   \n",
       "1 1941-07-02  1941.0    7.0  2.0  83.3  75.1  1016.6   75.8   7.0   15.0   \n",
       "2 1941-07-03  1941.0    7.0  3.0  85.6  73.8  1016.5   19.8   7.5   13.0   \n",
       "3 1941-07-04  1941.0    7.0  4.0  86.6  71.5  1014.4   87.2   9.0   21.0   \n",
       "4 1941-07-05  1941.0    7.0  5.0  84.6  69.7  1012.6   14.3  10.3   13.0   \n",
       "\n",
       "    max   min   prcp  fog  rain_drizzle  snow_ice_pellets  hail  thunder  \n",
       "0  93.4  75.4  99.99  0.0           1.0               0.0   0.0      1.0  \n",
       "1  92.3  76.3   0.00  0.0           0.0               0.0   0.0      1.0  \n",
       "2  93.4  76.3   0.00  0.0           0.0               0.0   0.0      0.0  \n",
       "3  92.3  75.4   0.00  0.0           0.0               0.0   0.0      0.0  \n",
       "4  91.2  74.3   0.00  0.0           0.0               0.0   0.0      0.0  "
      ],
      "text/html": "<div>\n<style scoped>\n    .dataframe tbody tr th:only-of-type {\n        vertical-align: middle;\n    }\n\n    .dataframe tbody tr th {\n        vertical-align: top;\n    }\n\n    .dataframe thead th {\n        text-align: right;\n    }\n</style>\n<table border=\"1\" class=\"dataframe\">\n  <thead>\n    <tr style=\"text-align: right;\">\n      <th></th>\n      <th>Date</th>\n      <th>year</th>\n      <th>month</th>\n      <th>day</th>\n      <th>temp</th>\n      <th>dewp</th>\n      <th>slp</th>\n      <th>visib</th>\n      <th>wdsp</th>\n      <th>mxpsd</th>\n      <th>max</th>\n      <th>min</th>\n      <th>prcp</th>\n      <th>fog</th>\n      <th>rain_drizzle</th>\n      <th>snow_ice_pellets</th>\n      <th>hail</th>\n      <th>thunder</th>\n    </tr>\n  </thead>\n  <tbody>\n    <tr>\n      <th>0</th>\n      <td>1941-07-01</td>\n      <td>1941.0</td>\n      <td>7.0</td>\n      <td>1.0</td>\n      <td>84.3</td>\n      <td>75.0</td>\n      <td>1015.4</td>\n      <td>83.7</td>\n      <td>6.4</td>\n      <td>16.9</td>\n      <td>93.4</td>\n      <td>75.4</td>\n      <td>99.99</td>\n      <td>0.0</td>\n      <td>1.0</td>\n      <td>0.0</td>\n      <td>0.0</td>\n      <td>1.0</td>\n    </tr>\n    <tr>\n      <th>1</th>\n      <td>1941-07-02</td>\n      <td>1941.0</td>\n      <td>7.0</td>\n      <td>2.0</td>\n      <td>83.3</td>\n      <td>75.1</td>\n      <td>1016.6</td>\n      <td>75.8</td>\n      <td>7.0</td>\n      <td>15.0</td>\n      <td>92.3</td>\n      <td>76.3</td>\n      <td>0.00</td>\n      <td>0.0</td>\n      <td>0.0</td>\n      <td>0.0</td>\n      <td>0.0</td>\n      <td>1.0</td>\n    </tr>\n    <tr>\n      <th>2</th>\n      <td>1941-07-03</td>\n      <td>1941.0</td>\n      <td>7.0</td>\n      <td>3.0</td>\n      <td>85.6</td>\n      <td>73.8</td>\n      <td>1016.5</td>\n      <td>19.8</td>\n      <td>7.5</td>\n      <td>13.0</td>\n      <td>93.4</td>\n      <td>76.3</td>\n      <td>0.00</td>\n      <td>0.0</td>\n      <td>0.0</td>\n      <td>0.0</td>\n      <td>0.0</td>\n      <td>0.0</td>\n    </tr>\n    <tr>\n      <th>3</th>\n      <td>1941-07-04</td>\n      <td>1941.0</td>\n      <td>7.0</td>\n      <td>4.0</td>\n      <td>86.6</td>\n      <td>71.5</td>\n      <td>1014.4</td>\n      <td>87.2</td>\n      <td>9.0</td>\n      <td>21.0</td>\n      <td>92.3</td>\n      <td>75.4</td>\n      <td>0.00</td>\n      <td>0.0</td>\n      <td>0.0</td>\n      <td>0.0</td>\n      <td>0.0</td>\n      <td>0.0</td>\n    </tr>\n    <tr>\n      <th>4</th>\n      <td>1941-07-05</td>\n      <td>1941.0</td>\n      <td>7.0</td>\n      <td>5.0</td>\n      <td>84.6</td>\n      <td>69.7</td>\n      <td>1012.6</td>\n      <td>14.3</td>\n      <td>10.3</td>\n      <td>13.0</td>\n      <td>91.2</td>\n      <td>74.3</td>\n      <td>0.00</td>\n      <td>0.0</td>\n      <td>0.0</td>\n      <td>0.0</td>\n      <td>0.0</td>\n      <td>0.0</td>\n    </tr>\n  </tbody>\n</table>\n</div>"
     },
     "metadata": {},
     "execution_count": 11
    }
   ],
   "source": [
    "df_stgrp = dfr.groupby([\"Date\"], as_index=False).mean()\n",
    "df_stgrp.head()"
   ]
  },
  {
   "cell_type": "code",
   "execution_count": 30,
   "metadata": {},
   "outputs": [],
   "source": [
    "dates = df_stgrp[\"Date\"]\n",
    "day_count = []\n",
    "for day in dates:\n",
    "    count = day - dates.min()\n",
    "    day_count.append(count.days)\n",
    "\n",
    "df_days = df_stgrp\n",
    "df_days[\"days\"] = day_count"
   ]
  },
  {
   "cell_type": "code",
   "execution_count": 31,
   "metadata": {},
   "outputs": [],
   "source": [
    "def seasonality(day_counts):\n",
    "    year = 365.2425\n",
    "    year_sin = np.sin(day_counts * (2 * np.pi / year))\n",
    "    year_cos = np.cos(day_counts * (2 * np.pi / year))\n",
    "    return year_sin, year_cos\n"
   ]
  },
  {
   "cell_type": "code",
   "execution_count": 36,
   "metadata": {},
   "outputs": [
    {
     "output_type": "execute_result",
     "data": {
      "text/plain": [
       "        Date    year  month  day  temp  dewp     slp  visib  wdsp  mxpsd  ...  \\\n",
       "0 1941-07-01  1941.0    7.0  1.0  84.3  75.0  1015.4   83.7   6.4   16.9  ...   \n",
       "1 1941-07-02  1941.0    7.0  2.0  83.3  75.1  1016.6   75.8   7.0   15.0  ...   \n",
       "2 1941-07-03  1941.0    7.0  3.0  85.6  73.8  1016.5   19.8   7.5   13.0  ...   \n",
       "3 1941-07-04  1941.0    7.0  4.0  86.6  71.5  1014.4   87.2   9.0   21.0  ...   \n",
       "4 1941-07-05  1941.0    7.0  5.0  84.6  69.7  1012.6   14.3  10.3   13.0  ...   \n",
       "\n",
       "    min   prcp  fog  rain_drizzle  snow_ice_pellets  hail  thunder  days  \\\n",
       "0  75.4  99.99  0.0           1.0               0.0   0.0      1.0     0   \n",
       "1  76.3   0.00  0.0           0.0               0.0   0.0      1.0     1   \n",
       "2  76.3   0.00  0.0           0.0               0.0   0.0      0.0     2   \n",
       "3  75.4   0.00  0.0           0.0               0.0   0.0      0.0     3   \n",
       "4  74.3   0.00  0.0           0.0               0.0   0.0      0.0     4   \n",
       "\n",
       "   year sin  year cos  \n",
       "0  0.000000  1.000000  \n",
       "1  0.017202  0.999852  \n",
       "2  0.034399  0.999408  \n",
       "3  0.051585  0.998669  \n",
       "4  0.068757  0.997633  \n",
       "\n",
       "[5 rows x 21 columns]"
      ],
      "text/html": "<div>\n<style scoped>\n    .dataframe tbody tr th:only-of-type {\n        vertical-align: middle;\n    }\n\n    .dataframe tbody tr th {\n        vertical-align: top;\n    }\n\n    .dataframe thead th {\n        text-align: right;\n    }\n</style>\n<table border=\"1\" class=\"dataframe\">\n  <thead>\n    <tr style=\"text-align: right;\">\n      <th></th>\n      <th>Date</th>\n      <th>year</th>\n      <th>month</th>\n      <th>day</th>\n      <th>temp</th>\n      <th>dewp</th>\n      <th>slp</th>\n      <th>visib</th>\n      <th>wdsp</th>\n      <th>mxpsd</th>\n      <th>...</th>\n      <th>min</th>\n      <th>prcp</th>\n      <th>fog</th>\n      <th>rain_drizzle</th>\n      <th>snow_ice_pellets</th>\n      <th>hail</th>\n      <th>thunder</th>\n      <th>days</th>\n      <th>year sin</th>\n      <th>year cos</th>\n    </tr>\n  </thead>\n  <tbody>\n    <tr>\n      <th>0</th>\n      <td>1941-07-01</td>\n      <td>1941.0</td>\n      <td>7.0</td>\n      <td>1.0</td>\n      <td>84.3</td>\n      <td>75.0</td>\n      <td>1015.4</td>\n      <td>83.7</td>\n      <td>6.4</td>\n      <td>16.9</td>\n      <td>...</td>\n      <td>75.4</td>\n      <td>99.99</td>\n      <td>0.0</td>\n      <td>1.0</td>\n      <td>0.0</td>\n      <td>0.0</td>\n      <td>1.0</td>\n      <td>0</td>\n      <td>0.000000</td>\n      <td>1.000000</td>\n    </tr>\n    <tr>\n      <th>1</th>\n      <td>1941-07-02</td>\n      <td>1941.0</td>\n      <td>7.0</td>\n      <td>2.0</td>\n      <td>83.3</td>\n      <td>75.1</td>\n      <td>1016.6</td>\n      <td>75.8</td>\n      <td>7.0</td>\n      <td>15.0</td>\n      <td>...</td>\n      <td>76.3</td>\n      <td>0.00</td>\n      <td>0.0</td>\n      <td>0.0</td>\n      <td>0.0</td>\n      <td>0.0</td>\n      <td>1.0</td>\n      <td>1</td>\n      <td>0.017202</td>\n      <td>0.999852</td>\n    </tr>\n    <tr>\n      <th>2</th>\n      <td>1941-07-03</td>\n      <td>1941.0</td>\n      <td>7.0</td>\n      <td>3.0</td>\n      <td>85.6</td>\n      <td>73.8</td>\n      <td>1016.5</td>\n      <td>19.8</td>\n      <td>7.5</td>\n      <td>13.0</td>\n      <td>...</td>\n      <td>76.3</td>\n      <td>0.00</td>\n      <td>0.0</td>\n      <td>0.0</td>\n      <td>0.0</td>\n      <td>0.0</td>\n      <td>0.0</td>\n      <td>2</td>\n      <td>0.034399</td>\n      <td>0.999408</td>\n    </tr>\n    <tr>\n      <th>3</th>\n      <td>1941-07-04</td>\n      <td>1941.0</td>\n      <td>7.0</td>\n      <td>4.0</td>\n      <td>86.6</td>\n      <td>71.5</td>\n      <td>1014.4</td>\n      <td>87.2</td>\n      <td>9.0</td>\n      <td>21.0</td>\n      <td>...</td>\n      <td>75.4</td>\n      <td>0.00</td>\n      <td>0.0</td>\n      <td>0.0</td>\n      <td>0.0</td>\n      <td>0.0</td>\n      <td>0.0</td>\n      <td>3</td>\n      <td>0.051585</td>\n      <td>0.998669</td>\n    </tr>\n    <tr>\n      <th>4</th>\n      <td>1941-07-05</td>\n      <td>1941.0</td>\n      <td>7.0</td>\n      <td>5.0</td>\n      <td>84.6</td>\n      <td>69.7</td>\n      <td>1012.6</td>\n      <td>14.3</td>\n      <td>10.3</td>\n      <td>13.0</td>\n      <td>...</td>\n      <td>74.3</td>\n      <td>0.00</td>\n      <td>0.0</td>\n      <td>0.0</td>\n      <td>0.0</td>\n      <td>0.0</td>\n      <td>0.0</td>\n      <td>4</td>\n      <td>0.068757</td>\n      <td>0.997633</td>\n    </tr>\n  </tbody>\n</table>\n<p>5 rows × 21 columns</p>\n</div>"
     },
     "metadata": {},
     "execution_count": 36
    }
   ],
   "source": [
    "year_sin, year_cos = seasonality(df_days.days)\n",
    "df_days[\"year sin\"] = year_sin\n",
    "df_days[\"year cos\"] = year_cos\n",
    "df_days.head()"
   ]
  },
  {
   "cell_type": "code",
   "execution_count": 46,
   "metadata": {},
   "outputs": [],
   "source": [
    "df_short = df_days.drop(df_days.loc[df_days[\"year\"] <= 1945].index)\n"
   ]
  },
  {
   "cell_type": "code",
   "execution_count": 49,
   "metadata": {},
   "outputs": [
    {
     "output_type": "stream",
     "name": "stdout",
     "text": [
      "<class 'pandas.core.frame.DataFrame'>\nInt64Index: 27140 entries, 1643 to 28782\nData columns (total 15 columns):\n #   Column            Non-Null Count  Dtype         \n---  ------            --------------  -----         \n 0   Date              27140 non-null  datetime64[ns]\n 1   temp              27140 non-null  float64       \n 2   dewp              27140 non-null  float64       \n 3   slp               27140 non-null  float64       \n 4   visib             27140 non-null  float64       \n 5   wdsp              27140 non-null  float64       \n 6   max               27140 non-null  float64       \n 7   min               27140 non-null  float64       \n 8   fog               27140 non-null  float64       \n 9   rain_drizzle      27140 non-null  float64       \n 10  snow_ice_pellets  27140 non-null  float64       \n 11  hail              27140 non-null  float64       \n 12  thunder           27140 non-null  float64       \n 13  year sin          27140 non-null  float64       \n 14  year cos          27140 non-null  float64       \ndtypes: datetime64[ns](1), float64(14)\nmemory usage: 4.6 MB\n"
     ]
    }
   ],
   "source": [
    "\n",
    "df_clean = df_short.drop([\"month\", \"day\", \"mxpsd\", \"prcp\", \"days\", \"year\"], axis=1)\n",
    "df_clean.info()"
   ]
  },
  {
   "cell_type": "code",
   "execution_count": 50,
   "metadata": {},
   "outputs": [],
   "source": [
    "df_clean.to_csv(\"model_data.csv\")"
   ]
  }
 ],
 "metadata": {
  "kernelspec": {
   "name": "python3",
   "display_name": "Python 3"
  },
  "language_info": {
   "codemirror_mode": {
    "name": "ipython",
    "version": 3
   },
   "file_extension": ".py",
   "mimetype": "text/x-python",
   "name": "python",
   "nbconvert_exporter": "python",
   "pygments_lexer": "ipython3",
   "version": "3.7.4-final"
  }
 },
 "nbformat": 4,
 "nbformat_minor": 4
}