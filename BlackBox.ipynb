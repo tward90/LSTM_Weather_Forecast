{
 "cells": [
  {
   "cell_type": "code",
   "execution_count": 1,
   "metadata": {},
   "outputs": [],
   "source": [
    "import pandas as pd\n",
    "import numpy as np\n",
    "import tensorflow as tf\n",
    "from matplotlib import pyplot as plt"
   ]
  },
  {
   "cell_type": "code",
   "execution_count": 2,
   "metadata": {},
   "outputs": [
    {
     "output_type": "stream",
     "name": "stderr",
     "text": [
      "Using TensorFlow backend.\n"
     ]
    }
   ],
   "source": [
    "from sklearn.preprocessing import LabelEncoder\n",
    "from sklearn.preprocessing import MinMaxScaler\n",
    "from sklearn.model_selection import train_test_split\n",
    "from sklearn.metrics import mean_squared_error\n",
    "from tensorflow.keras.models import Sequential\n",
    "from tensorflow.keras.layers import Dense\n",
    "from tensorflow.keras.layers import LSTM\n",
    "from tensorflow.keras.preprocessing import timeseries_dataset_from_array\n",
    "\n",
    "from hyperas import optim\n",
    "from hyperas.distributions import choice, uniform\n",
    "from hyperopt import Trials, STATUS_OK, tpe"
   ]
  },
  {
   "cell_type": "code",
   "execution_count": 3,
   "metadata": {},
   "outputs": [
    {
     "output_type": "stream",
     "name": "stdout",
     "text": [
      "<class 'pandas.core.frame.DataFrame'>\nRangeIndex: 27140 entries, 0 to 27139\nData columns (total 16 columns):\n #   Column            Non-Null Count  Dtype  \n---  ------            --------------  -----  \n 0   Unnamed: 0        27140 non-null  int64  \n 1   Date              27140 non-null  object \n 2   temp              27140 non-null  float64\n 3   dewp              27140 non-null  float64\n 4   slp               27140 non-null  float64\n 5   visib             27140 non-null  float64\n 6   wdsp              27140 non-null  float64\n 7   max               27140 non-null  float64\n 8   min               27140 non-null  float64\n 9   fog               27140 non-null  float64\n 10  rain_drizzle      27140 non-null  float64\n 11  snow_ice_pellets  27140 non-null  float64\n 12  hail              27140 non-null  float64\n 13  thunder           27140 non-null  float64\n 14  year sin          27140 non-null  float64\n 15  year cos          27140 non-null  float64\ndtypes: float64(14), int64(1), object(1)\nmemory usage: 3.3+ MB\n"
     ]
    }
   ],
   "source": [
    "df = pd.read_csv(\"model_data.csv\")\n",
    "df.info()"
   ]
  },
  {
   "cell_type": "code",
   "execution_count": 4,
   "metadata": {},
   "outputs": [],
   "source": [
    "def series_to_supervised(data, n_in=1, n_out=1, dropnan=True):\n",
    "\tn_vars = 1 if type(data) is list else data.shape[1]\n",
    "\tdf = pd.DataFrame(data)\n",
    "\tcols, names = list(), list()\n",
    "\t# input sequence (t-n, ... t-1)\n",
    "\tfor i in range(n_in, 0, -1):\n",
    "\t\tcols.append(df.shift(i))\n",
    "\t\tnames += [('var%d(t-%d)' % (j+1, i)) for j in range(n_vars)]\n",
    "\t# forecast sequence (t, t+1, ... t+n)\n",
    "\tfor i in range(0, n_out):\n",
    "\t\tcols.append(df.shift(-i))\n",
    "\t\tif i == 0:\n",
    "\t\t\tnames += [('var%d(t)' % (j+1)) for j in range(n_vars)]\n",
    "\t\telse:\n",
    "\t\t\tnames += [('var%d(t+%d)' % (j+1, i)) for j in range(n_vars)]\n",
    "\t# put it all together\n",
    "\tagg = pd.concat(cols, axis=1)\n",
    "\tagg.columns = names\n",
    "\t# drop rows with NaN values\n",
    "\tif dropnan:\n",
    "\t\tagg.dropna(inplace=True)\n",
    "\treturn agg"
   ]
  },
  {
   "cell_type": "code",
   "execution_count": 5,
   "metadata": {},
   "outputs": [],
   "source": [
    "values = df.drop([\"Date\"], axis=1).values\n",
    "values = values.astype(\"float32\")\n",
    "scaler = MinMaxScaler(feature_range=(0, 1))\n",
    "scaled = scaler.fit_transform(values)"
   ]
  },
  {
   "cell_type": "code",
   "execution_count": 6,
   "metadata": {},
   "outputs": [
    {
     "output_type": "execute_result",
     "data": {
      "text/plain": [
       "array([[ 1.64300000e+03,  5.29000015e+01,  4.22000008e+01, ...,\n",
       "         0.00000000e+00, -2.42320392e-02, -9.99706388e-01],\n",
       "       [ 1.64400000e+03,  6.12999992e+01,  5.29000015e+01, ...,\n",
       "         0.00000000e+00, -4.14253324e-02, -9.99141574e-01],\n",
       "       [ 1.64500000e+03,  6.51999969e+01,  6.02999992e+01, ...,\n",
       "         0.00000000e+00, -5.86063638e-02, -9.98281181e-01],\n",
       "       ...,\n",
       "       [ 2.87800000e+04,  7.27799988e+01,  5.95000000e+01, ...,\n",
       "         0.00000000e+00,  9.93693531e-01, -1.12130076e-01],\n",
       "       [ 2.87810000e+04,  7.28000031e+01,  5.85800018e+01, ...,\n",
       "         0.00000000e+00,  9.91617680e-01, -1.29206926e-01],\n",
       "       [ 2.87820000e+04,  7.63399963e+01,  6.75800018e+01, ...,\n",
       "         0.00000000e+00,  9.89248335e-01, -1.46245554e-01]], dtype=float32)"
      ]
     },
     "metadata": {},
     "execution_count": 6
    }
   ],
   "source": [
    "values"
   ]
  },
  {
   "cell_type": "code",
   "execution_count": 7,
   "metadata": {},
   "outputs": [
    {
     "output_type": "execute_result",
     "data": {
      "text/plain": [
       "       var1(t-2)  var2(t-2)  var3(t-2)  var4(t-2)  var5(t-2)  var6(t-2)  \\\n",
       "2       0.000000   0.478950   0.551425   0.580982   0.372414   0.169381   \n",
       "3       0.000037   0.593028   0.684015   0.558163   0.396552   0.351792   \n",
       "4       0.000074   0.645994   0.775712   0.512520   0.362069   0.221498   \n",
       "5       0.000111   0.666365   0.812887   0.455467   0.296552   0.407166   \n",
       "6       0.000147   0.617474   0.686493   0.225357   0.324138   0.315961   \n",
       "...          ...        ...        ...        ...        ...        ...   \n",
       "27135   0.999779   0.741602   0.658736   0.548273   0.320690   0.160261   \n",
       "27136   0.999816   0.693526   0.696654   0.504913   0.315172   0.087296   \n",
       "27137   0.999853   0.736170   0.759851   0.515562   0.297241   0.067101   \n",
       "27138   0.999889   0.756813   0.784634   0.519367   0.311034   0.103583   \n",
       "27139   0.999926   0.748936   0.765799   0.475626   0.297241   0.106189   \n",
       "\n",
       "       var7(t-2)  var8(t-2)  var9(t-2)  var10(t-2)  ...   var6(t)   var7(t)  \\\n",
       "2       0.469502   0.447147        0.0         0.0  ...  0.221498  0.591092   \n",
       "3       0.529695   0.596347        0.0         0.0  ...  0.407166  0.577849   \n",
       "4       0.591092   0.662809        0.0         0.0  ...  0.315961  0.577849   \n",
       "5       0.577849   0.730627        0.0         1.0  ...  0.201954  0.615169   \n",
       "6       0.577849   0.608554        0.0         1.0  ...  0.192182  0.540530   \n",
       "...          ...        ...        ...         ...  ...       ...       ...   \n",
       "27135   0.701605   0.683425        0.0         0.0  ...  0.067101  0.730979   \n",
       "27136   0.705939   0.623745        0.0         0.0  ...  0.103583  0.704254   \n",
       "27137   0.730979   0.658739        0.2         0.0  ...  0.106189  0.731461   \n",
       "27138   0.704254   0.739850        0.0         0.0  ...  0.102280  0.745425   \n",
       "27139   0.731461   0.715978        0.0         0.0  ...  0.057980  0.634671   \n",
       "\n",
       "        var8(t)  var9(t)  var10(t)  var11(t)  var12(t)  var13(t)  var14(t)  \\\n",
       "2      0.662809      0.0       0.0       0.0       0.0       0.0  0.470697   \n",
       "3      0.730627      0.0       1.0       0.0       0.0       0.0  0.462115   \n",
       "4      0.608554      0.0       1.0       0.0       0.0       1.0  0.453544   \n",
       "5      0.623474      1.0       1.0       0.0       0.0       0.0  0.444987   \n",
       "6      0.703499      1.0       1.0       0.0       0.0       0.0  0.436447   \n",
       "...         ...      ...       ...       ...       ...       ...       ...   \n",
       "27135  0.658739      0.2       0.0       0.0       0.0       0.0  0.998481   \n",
       "27136  0.739850      0.0       0.0       0.0       0.0       0.0  0.997738   \n",
       "27137  0.715978      0.0       0.0       0.0       0.0       0.0  0.996847   \n",
       "27138  0.680441      0.0       0.0       0.0       0.0       0.0  0.995809   \n",
       "27139  0.878470      0.0       0.0       0.0       0.0       0.0  0.994624   \n",
       "\n",
       "       var15(t)  \n",
       "2      0.000859  \n",
       "3      0.001437  \n",
       "4      0.002163  \n",
       "5      0.003036  \n",
       "6      0.004055  \n",
       "...         ...  \n",
       "27135  0.461059  \n",
       "27136  0.452490  \n",
       "27137  0.443935  \n",
       "27138  0.435397  \n",
       "27139  0.426877  \n",
       "\n",
       "[27138 rows x 45 columns]"
      ],
      "text/html": "<div>\n<style scoped>\n    .dataframe tbody tr th:only-of-type {\n        vertical-align: middle;\n    }\n\n    .dataframe tbody tr th {\n        vertical-align: top;\n    }\n\n    .dataframe thead th {\n        text-align: right;\n    }\n</style>\n<table border=\"1\" class=\"dataframe\">\n  <thead>\n    <tr style=\"text-align: right;\">\n      <th></th>\n      <th>var1(t-2)</th>\n      <th>var2(t-2)</th>\n      <th>var3(t-2)</th>\n      <th>var4(t-2)</th>\n      <th>var5(t-2)</th>\n      <th>var6(t-2)</th>\n      <th>var7(t-2)</th>\n      <th>var8(t-2)</th>\n      <th>var9(t-2)</th>\n      <th>var10(t-2)</th>\n      <th>...</th>\n      <th>var6(t)</th>\n      <th>var7(t)</th>\n      <th>var8(t)</th>\n      <th>var9(t)</th>\n      <th>var10(t)</th>\n      <th>var11(t)</th>\n      <th>var12(t)</th>\n      <th>var13(t)</th>\n      <th>var14(t)</th>\n      <th>var15(t)</th>\n    </tr>\n  </thead>\n  <tbody>\n    <tr>\n      <th>2</th>\n      <td>0.000000</td>\n      <td>0.478950</td>\n      <td>0.551425</td>\n      <td>0.580982</td>\n      <td>0.372414</td>\n      <td>0.169381</td>\n      <td>0.469502</td>\n      <td>0.447147</td>\n      <td>0.0</td>\n      <td>0.0</td>\n      <td>...</td>\n      <td>0.221498</td>\n      <td>0.591092</td>\n      <td>0.662809</td>\n      <td>0.0</td>\n      <td>0.0</td>\n      <td>0.0</td>\n      <td>0.0</td>\n      <td>0.0</td>\n      <td>0.470697</td>\n      <td>0.000859</td>\n    </tr>\n    <tr>\n      <th>3</th>\n      <td>0.000037</td>\n      <td>0.593028</td>\n      <td>0.684015</td>\n      <td>0.558163</td>\n      <td>0.396552</td>\n      <td>0.351792</td>\n      <td>0.529695</td>\n      <td>0.596347</td>\n      <td>0.0</td>\n      <td>0.0</td>\n      <td>...</td>\n      <td>0.407166</td>\n      <td>0.577849</td>\n      <td>0.730627</td>\n      <td>0.0</td>\n      <td>1.0</td>\n      <td>0.0</td>\n      <td>0.0</td>\n      <td>0.0</td>\n      <td>0.462115</td>\n      <td>0.001437</td>\n    </tr>\n    <tr>\n      <th>4</th>\n      <td>0.000074</td>\n      <td>0.645994</td>\n      <td>0.775712</td>\n      <td>0.512520</td>\n      <td>0.362069</td>\n      <td>0.221498</td>\n      <td>0.591092</td>\n      <td>0.662809</td>\n      <td>0.0</td>\n      <td>0.0</td>\n      <td>...</td>\n      <td>0.315961</td>\n      <td>0.577849</td>\n      <td>0.608554</td>\n      <td>0.0</td>\n      <td>1.0</td>\n      <td>0.0</td>\n      <td>0.0</td>\n      <td>1.0</td>\n      <td>0.453544</td>\n      <td>0.002163</td>\n    </tr>\n    <tr>\n      <th>5</th>\n      <td>0.000111</td>\n      <td>0.666365</td>\n      <td>0.812887</td>\n      <td>0.455467</td>\n      <td>0.296552</td>\n      <td>0.407166</td>\n      <td>0.577849</td>\n      <td>0.730627</td>\n      <td>0.0</td>\n      <td>1.0</td>\n      <td>...</td>\n      <td>0.201954</td>\n      <td>0.615169</td>\n      <td>0.623474</td>\n      <td>1.0</td>\n      <td>1.0</td>\n      <td>0.0</td>\n      <td>0.0</td>\n      <td>0.0</td>\n      <td>0.444987</td>\n      <td>0.003036</td>\n    </tr>\n    <tr>\n      <th>6</th>\n      <td>0.000147</td>\n      <td>0.617474</td>\n      <td>0.686493</td>\n      <td>0.225357</td>\n      <td>0.324138</td>\n      <td>0.315961</td>\n      <td>0.577849</td>\n      <td>0.608554</td>\n      <td>0.0</td>\n      <td>1.0</td>\n      <td>...</td>\n      <td>0.192182</td>\n      <td>0.540530</td>\n      <td>0.703499</td>\n      <td>1.0</td>\n      <td>1.0</td>\n      <td>0.0</td>\n      <td>0.0</td>\n      <td>0.0</td>\n      <td>0.436447</td>\n      <td>0.004055</td>\n    </tr>\n    <tr>\n      <th>...</th>\n      <td>...</td>\n      <td>...</td>\n      <td>...</td>\n      <td>...</td>\n      <td>...</td>\n      <td>...</td>\n      <td>...</td>\n      <td>...</td>\n      <td>...</td>\n      <td>...</td>\n      <td>...</td>\n      <td>...</td>\n      <td>...</td>\n      <td>...</td>\n      <td>...</td>\n      <td>...</td>\n      <td>...</td>\n      <td>...</td>\n      <td>...</td>\n      <td>...</td>\n      <td>...</td>\n    </tr>\n    <tr>\n      <th>27135</th>\n      <td>0.999779</td>\n      <td>0.741602</td>\n      <td>0.658736</td>\n      <td>0.548273</td>\n      <td>0.320690</td>\n      <td>0.160261</td>\n      <td>0.701605</td>\n      <td>0.683425</td>\n      <td>0.0</td>\n      <td>0.0</td>\n      <td>...</td>\n      <td>0.067101</td>\n      <td>0.730979</td>\n      <td>0.658739</td>\n      <td>0.2</td>\n      <td>0.0</td>\n      <td>0.0</td>\n      <td>0.0</td>\n      <td>0.0</td>\n      <td>0.998481</td>\n      <td>0.461059</td>\n    </tr>\n    <tr>\n      <th>27136</th>\n      <td>0.999816</td>\n      <td>0.693526</td>\n      <td>0.696654</td>\n      <td>0.504913</td>\n      <td>0.315172</td>\n      <td>0.087296</td>\n      <td>0.705939</td>\n      <td>0.623745</td>\n      <td>0.0</td>\n      <td>0.0</td>\n      <td>...</td>\n      <td>0.103583</td>\n      <td>0.704254</td>\n      <td>0.739850</td>\n      <td>0.0</td>\n      <td>0.0</td>\n      <td>0.0</td>\n      <td>0.0</td>\n      <td>0.0</td>\n      <td>0.997738</td>\n      <td>0.452490</td>\n    </tr>\n    <tr>\n      <th>27137</th>\n      <td>0.999853</td>\n      <td>0.736170</td>\n      <td>0.759851</td>\n      <td>0.515562</td>\n      <td>0.297241</td>\n      <td>0.067101</td>\n      <td>0.730979</td>\n      <td>0.658739</td>\n      <td>0.2</td>\n      <td>0.0</td>\n      <td>...</td>\n      <td>0.106189</td>\n      <td>0.731461</td>\n      <td>0.715978</td>\n      <td>0.0</td>\n      <td>0.0</td>\n      <td>0.0</td>\n      <td>0.0</td>\n      <td>0.0</td>\n      <td>0.996847</td>\n      <td>0.443935</td>\n    </tr>\n    <tr>\n      <th>27138</th>\n      <td>0.999889</td>\n      <td>0.756813</td>\n      <td>0.784634</td>\n      <td>0.519367</td>\n      <td>0.311034</td>\n      <td>0.103583</td>\n      <td>0.704254</td>\n      <td>0.739850</td>\n      <td>0.0</td>\n      <td>0.0</td>\n      <td>...</td>\n      <td>0.102280</td>\n      <td>0.745425</td>\n      <td>0.680441</td>\n      <td>0.0</td>\n      <td>0.0</td>\n      <td>0.0</td>\n      <td>0.0</td>\n      <td>0.0</td>\n      <td>0.995809</td>\n      <td>0.435397</td>\n    </tr>\n    <tr>\n      <th>27139</th>\n      <td>0.999926</td>\n      <td>0.748936</td>\n      <td>0.765799</td>\n      <td>0.475626</td>\n      <td>0.297241</td>\n      <td>0.106189</td>\n      <td>0.731461</td>\n      <td>0.715978</td>\n      <td>0.0</td>\n      <td>0.0</td>\n      <td>...</td>\n      <td>0.057980</td>\n      <td>0.634671</td>\n      <td>0.878470</td>\n      <td>0.0</td>\n      <td>0.0</td>\n      <td>0.0</td>\n      <td>0.0</td>\n      <td>0.0</td>\n      <td>0.994624</td>\n      <td>0.426877</td>\n    </tr>\n  </tbody>\n</table>\n<p>27138 rows × 45 columns</p>\n</div>"
     },
     "metadata": {},
     "execution_count": 7
    }
   ],
   "source": [
    "series_to_supervised(scaled, 2, 1)"
   ]
  },
  {
   "cell_type": "code",
   "execution_count": 8,
   "metadata": {},
   "outputs": [],
   "source": [
    "reframed = series_to_supervised(scaled, 1, 1)\n",
    "reframed.drop(reframed.columns[[16, 17, 18, 19, 20, 21, 22, 23, 24, 25, 26, 27, 28, 29]], axis=1, inplace=True)"
   ]
  },
  {
   "cell_type": "code",
   "execution_count": null,
   "metadata": {},
   "outputs": [],
   "source": [
    "reframed.head()"
   ]
  },
  {
   "cell_type": "code",
   "execution_count": 44,
   "metadata": {},
   "outputs": [],
   "source": [
    "reframe_values = reframed.values\n",
    "X = reframe_values[:,:-1]\n",
    "y = reframe_values[:, -1]\n",
    "\n",
    "x_train, x_test, y_train, y_test = train_test_split(X, y, shuffle=False)\n",
    "X_train = np.expand_dims(x_train, axis=1)\n",
    "X_test = np.expand_dims(x_test, axis=1)\n",
    "y_train = np.expand_dims(y_train, axis=1)\n",
    "y_test = np.expand_dims(y_test, axis=1)"
   ]
  },
  {
   "cell_type": "code",
   "execution_count": 40,
   "metadata": {},
   "outputs": [
    {
     "output_type": "execute_result",
     "data": {
      "text/plain": [
       "array([[0.7500276 ],\n",
       "       [0.75006443],\n",
       "       [0.7501013 ],\n",
       "       ...,\n",
       "       [0.9999263 ],\n",
       "       [0.99996316],\n",
       "       [1.        ]], dtype=float32)"
      ]
     },
     "metadata": {},
     "execution_count": 40
    }
   ],
   "source": [
    "y_test"
   ]
  },
  {
   "cell_type": "code",
   "execution_count": 51,
   "metadata": {},
   "outputs": [],
   "source": [
    "def data():\n",
    "    return X_train, y_train, X_test, y_test\n"
   ]
  },
  {
   "cell_type": "code",
   "execution_count": 42,
   "metadata": {},
   "outputs": [],
   "source": [
    "\n",
    "def create_model(X_train, Y_train, X_test, Y_test):\n",
    "    model = Sequential()\n",
    "    model.add(LSTM({{uniform(10,50)}}, \n",
    "            input_shape=(X_train.shape[1], \n",
    "            X_train.shape[2])\n",
    "            ))\n",
    "    model.add(Dense({{choice([10, 20, 50, 100])}}))\n",
    "    model.add(Dense(1))\n",
    "    model.compile(loss={{choice([\"mae\", 'categorical_crossentropy'])}}, \n",
    "                    optimizer={{choice([\"adam\", \"sgd\", \"rmsprop\"])}}, \n",
    "                    metrics=[\"mse\"])\n",
    "\n",
    "    result = model.fit(X_train, Y_train, epochs=25, batch_size=60, validation_split=0.1, verbose=2, shuffle=False)\n",
    "\n",
    "    validation_acc=np.amax(result.history['val_acc'])\n",
    "    print('Best Validation acc of epoch:', validation_acc)\n",
    "    return {'loss': -validation_acc, 'status': STATUS_OK, 'model':model}"
   ]
  },
  {
   "cell_type": "code",
   "execution_count": 52,
   "metadata": {},
   "outputs": [],
   "source": []
  },
  {
   "cell_type": "code",
   "execution_count": 53,
   "metadata": {},
   "outputs": [
    {
     "output_type": "execute_result",
     "data": {
      "text/plain": [
       "array([[[0.0000000e+00, 4.7894979e-01, 5.5142498e-01, ...,\n",
       "         0.0000000e+00, 4.8788399e-01, 1.4680624e-04]],\n",
       "\n",
       "       [[3.6846846e-05, 5.9302849e-01, 6.8401486e-01, ...,\n",
       "         0.0000000e+00, 4.7928733e-01, 4.2921305e-04]],\n",
       "\n",
       "       [[7.3693693e-05, 6.4599359e-01, 7.7571243e-01, ...,\n",
       "         0.0000000e+00, 4.7069681e-01, 8.5940957e-04]],\n",
       "\n",
       "       ...,\n",
       "\n",
       "       [[7.4988019e-01, 6.8809414e-01, 8.1734812e-01, ...,\n",
       "         0.0000000e+00, 4.0242881e-02, 3.0347168e-01]],\n",
       "\n",
       "       [[7.4991709e-01, 6.8048882e-01, 7.0161086e-01, ...,\n",
       "         0.0000000e+00, 3.6930233e-02, 3.1140947e-01]],\n",
       "\n",
       "       [[7.4995393e-01, 4.8275238e-01, 2.9962823e-01, ...,\n",
       "         0.0000000e+00, 3.3754647e-02, 3.1940305e-01]]], dtype=float32)"
      ]
     },
     "metadata": {},
     "execution_count": 53
    }
   ],
   "source": [
    "X_train"
   ]
  },
  {
   "cell_type": "code",
   "execution_count": 49,
   "metadata": {},
   "outputs": [
    {
     "output_type": "stream",
     "name": "stdout",
     "text": [
      ">>> Imports:\n",
      "#coding=utf-8\n",
      "\n",
      "try:\n",
      "    import pandas as pd\n",
      "except:\n",
      "    pass\n",
      "\n",
      "try:\n",
      "    import numpy as np\n",
      "except:\n",
      "    pass\n",
      "\n",
      "try:\n",
      "    import tensorflow as tf\n",
      "except:\n",
      "    pass\n",
      "\n",
      "try:\n",
      "    from matplotlib import pyplot as plt\n",
      "except:\n",
      "    pass\n",
      "\n",
      "try:\n",
      "    from sklearn.preprocessing import LabelEncoder\n",
      "except:\n",
      "    pass\n",
      "\n",
      "try:\n",
      "    from sklearn.preprocessing import MinMaxScaler\n",
      "except:\n",
      "    pass\n",
      "\n",
      "try:\n",
      "    from sklearn.model_selection import train_test_split\n",
      "except:\n",
      "    pass\n",
      "\n",
      "try:\n",
      "    from sklearn.metrics import mean_squared_error\n",
      "except:\n",
      "    pass\n",
      "\n",
      "try:\n",
      "    from tensorflow.keras.models import Sequential\n",
      "except:\n",
      "    pass\n",
      "\n",
      "try:\n",
      "    from tensorflow.keras.layers import Dense\n",
      "except:\n",
      "    pass\n",
      "\n",
      "try:\n",
      "    from tensorflow.keras.layers import LSTM\n",
      "except:\n",
      "    pass\n",
      "\n",
      "try:\n",
      "    from tensorflow.keras.preprocessing import timeseries_dataset_from_array\n",
      "except:\n",
      "    pass\n",
      "\n",
      "try:\n",
      "    from hyperas import optim\n",
      "except:\n",
      "    pass\n",
      "\n",
      "try:\n",
      "    from hyperas.distributions import choice, uniform\n",
      "except:\n",
      "    pass\n",
      "\n",
      "try:\n",
      "    from hyperopt import Trials, STATUS_OK, tpe\n",
      "except:\n",
      "    pass\n",
      "\n",
      ">>> Hyperas search space:\n",
      "\n",
      "def get_space():\n",
      "    return {\n",
      "        'LSTM': hp.uniform('LSTM', 10,50),\n",
      "        'Dense': hp.choice('Dense', [10, 20, 50, 100]),\n",
      "        'loss': hp.choice('loss', [\"mae\", 'categorical_crossentropy']),\n",
      "        'optimizer': hp.choice('optimizer', [\"adam\", \"sgd\", \"rmsprop\"]),\n",
      "    }\n",
      "\n",
      ">>> Data\n",
      "1: \n",
      "2: \n",
      "3: \n",
      "4: \n",
      ">>> Resulting replaced keras model:\n",
      "\n",
      "  1: def keras_fmin_fnct(space):\n",
      "  2: \n",
      "  3:     model = Sequential()\n",
      "  4:     model.add(LSTM(space['LSTM'], \n",
      "  5:             input_shape=(X_train.shape[1], \n",
      "  6:             X_train.shape[2])\n",
      "  7:             ))\n",
      "  8:     model.add(Dense(space['Dense']))\n",
      "  9:     model.add(Dense(1))\n",
      " 10:     model.compile(loss=space['loss'], \n",
      " 11:                     optimizer=space['optimizer'], \n",
      " 12:                     metrics=[\"mse\"])\n",
      " 13: \n",
      " 14:     result = model.fit(X_train, Y_train, epochs=25, batch_size=60, validation_split=0.1, verbose=2, shuffle=False)\n",
      " 15: \n",
      " 16:     validation_acc=np.amax(result.history['val_acc'])\n",
      " 17:     print('Best Validation acc of epoch:', validation_acc)\n",
      " 18:     return {'loss': -validation_acc, 'status': STATUS_OK, 'model':model}\n",
      " 19: \n",
      "  0%|          | 0/5 [00:00<?, ?trial/s, best loss=?]job exception: name 'X_train' is not defined\n",
      "\n",
      "  0%|          | 0/5 [00:00<?, ?trial/s, best loss=?]\n"
     ]
    },
    {
     "output_type": "error",
     "ename": "NameError",
     "evalue": "name 'X_train' is not defined",
     "traceback": [
      "\u001b[0;31m---------------------------------------------------------------------------\u001b[0m",
      "\u001b[0;31mNameError\u001b[0m                                 Traceback (most recent call last)",
      "\u001b[0;32m<ipython-input-49-0e47197de441>\u001b[0m in \u001b[0;36m<module>\u001b[0;34m\u001b[0m\n\u001b[1;32m      1\u001b[0m \u001b[0mX_train\u001b[0m\u001b[0;34m,\u001b[0m \u001b[0my_train\u001b[0m\u001b[0;34m,\u001b[0m \u001b[0mX_test\u001b[0m\u001b[0;34m,\u001b[0m \u001b[0my_test\u001b[0m \u001b[0;34m=\u001b[0m \u001b[0mdata\u001b[0m\u001b[0;34m(\u001b[0m\u001b[0;34m)\u001b[0m\u001b[0;34m\u001b[0m\u001b[0;34m\u001b[0m\u001b[0m\n\u001b[1;32m      2\u001b[0m \u001b[0;32mif\u001b[0m \u001b[0m__name__\u001b[0m \u001b[0;34m==\u001b[0m \u001b[0;34m'__main__'\u001b[0m\u001b[0;34m:\u001b[0m\u001b[0;34m\u001b[0m\u001b[0;34m\u001b[0m\u001b[0m\n\u001b[0;32m----> 3\u001b[0;31m     best_run, best_model = optim.minimize(model=create_model,\n\u001b[0m\u001b[1;32m      4\u001b[0m                                           \u001b[0mdata\u001b[0m\u001b[0;34m=\u001b[0m\u001b[0mdata\u001b[0m\u001b[0;34m,\u001b[0m\u001b[0;34m\u001b[0m\u001b[0;34m\u001b[0m\u001b[0m\n\u001b[1;32m      5\u001b[0m                                           \u001b[0malgo\u001b[0m\u001b[0;34m=\u001b[0m\u001b[0mtpe\u001b[0m\u001b[0;34m.\u001b[0m\u001b[0msuggest\u001b[0m\u001b[0;34m,\u001b[0m\u001b[0;34m\u001b[0m\u001b[0;34m\u001b[0m\u001b[0m\n",
      "\u001b[0;32m~/opt/anaconda3/envs/WeatherML/lib/python3.8/site-packages/hyperas/optim.py\u001b[0m in \u001b[0;36mminimize\u001b[0;34m(model, data, algo, max_evals, trials, functions, rseed, notebook_name, verbose, eval_space, return_space, keep_temp)\u001b[0m\n\u001b[1;32m     57\u001b[0m     \u001b[0mIf\u001b[0m\u001b[0;31m \u001b[0m\u001b[0;31m`\u001b[0m\u001b[0mreturn_space\u001b[0m\u001b[0;31m`\u001b[0m \u001b[0;32mis\u001b[0m \u001b[0;32mTrue\u001b[0m\u001b[0;34m:\u001b[0m \u001b[0mThe\u001b[0m \u001b[0mpair\u001b[0m \u001b[0mof\u001b[0m \u001b[0mbest\u001b[0m \u001b[0mresult\u001b[0m \u001b[0;32mand\u001b[0m \u001b[0mcorresponding\u001b[0m \u001b[0mkeras\u001b[0m \u001b[0mmodel\u001b[0m\u001b[0;34m,\u001b[0m \u001b[0;32mand\u001b[0m \u001b[0mthe\u001b[0m \u001b[0mhyperopt\u001b[0m \u001b[0msearch\u001b[0m \u001b[0mspace\u001b[0m\u001b[0;34m\u001b[0m\u001b[0;34m\u001b[0m\u001b[0m\n\u001b[1;32m     58\u001b[0m     \"\"\"\n\u001b[0;32m---> 59\u001b[0;31m     best_run, space = base_minimizer(model=model,\n\u001b[0m\u001b[1;32m     60\u001b[0m                                      \u001b[0mdata\u001b[0m\u001b[0;34m=\u001b[0m\u001b[0mdata\u001b[0m\u001b[0;34m,\u001b[0m\u001b[0;34m\u001b[0m\u001b[0;34m\u001b[0m\u001b[0m\n\u001b[1;32m     61\u001b[0m                                      \u001b[0mfunctions\u001b[0m\u001b[0;34m=\u001b[0m\u001b[0mfunctions\u001b[0m\u001b[0;34m,\u001b[0m\u001b[0;34m\u001b[0m\u001b[0;34m\u001b[0m\u001b[0m\n",
      "\u001b[0;32m~/opt/anaconda3/envs/WeatherML/lib/python3.8/site-packages/hyperas/optim.py\u001b[0m in \u001b[0;36mbase_minimizer\u001b[0;34m(model, data, functions, algo, max_evals, trials, rseed, full_model_string, notebook_name, verbose, stack, keep_temp)\u001b[0m\n\u001b[1;32m    131\u001b[0m \u001b[0;34m\u001b[0m\u001b[0m\n\u001b[1;32m    132\u001b[0m     return (\n\u001b[0;32m--> 133\u001b[0;31m         fmin(keras_fmin_fnct,\n\u001b[0m\u001b[1;32m    134\u001b[0m              \u001b[0mspace\u001b[0m\u001b[0;34m=\u001b[0m\u001b[0mget_space\u001b[0m\u001b[0;34m(\u001b[0m\u001b[0;34m)\u001b[0m\u001b[0;34m,\u001b[0m\u001b[0;34m\u001b[0m\u001b[0;34m\u001b[0m\u001b[0m\n\u001b[1;32m    135\u001b[0m              \u001b[0malgo\u001b[0m\u001b[0;34m=\u001b[0m\u001b[0malgo\u001b[0m\u001b[0;34m,\u001b[0m\u001b[0;34m\u001b[0m\u001b[0;34m\u001b[0m\u001b[0m\n",
      "\u001b[0;32m~/opt/anaconda3/envs/WeatherML/lib/python3.8/site-packages/hyperopt/fmin.py\u001b[0m in \u001b[0;36mfmin\u001b[0;34m(fn, space, algo, max_evals, timeout, loss_threshold, trials, rstate, allow_trials_fmin, pass_expr_memo_ctrl, catch_eval_exceptions, verbose, return_argmin, points_to_evaluate, max_queue_len, show_progressbar, early_stop_fn, trials_save_file)\u001b[0m\n\u001b[1;32m    505\u001b[0m \u001b[0;34m\u001b[0m\u001b[0m\n\u001b[1;32m    506\u001b[0m     \u001b[0;32mif\u001b[0m \u001b[0mallow_trials_fmin\u001b[0m \u001b[0;32mand\u001b[0m \u001b[0mhasattr\u001b[0m\u001b[0;34m(\u001b[0m\u001b[0mtrials\u001b[0m\u001b[0;34m,\u001b[0m \u001b[0;34m\"fmin\"\u001b[0m\u001b[0;34m)\u001b[0m\u001b[0;34m:\u001b[0m\u001b[0;34m\u001b[0m\u001b[0;34m\u001b[0m\u001b[0m\n\u001b[0;32m--> 507\u001b[0;31m         return trials.fmin(\n\u001b[0m\u001b[1;32m    508\u001b[0m             \u001b[0mfn\u001b[0m\u001b[0;34m,\u001b[0m\u001b[0;34m\u001b[0m\u001b[0;34m\u001b[0m\u001b[0m\n\u001b[1;32m    509\u001b[0m             \u001b[0mspace\u001b[0m\u001b[0;34m,\u001b[0m\u001b[0;34m\u001b[0m\u001b[0;34m\u001b[0m\u001b[0m\n",
      "\u001b[0;32m~/opt/anaconda3/envs/WeatherML/lib/python3.8/site-packages/hyperopt/base.py\u001b[0m in \u001b[0;36mfmin\u001b[0;34m(self, fn, space, algo, max_evals, timeout, loss_threshold, max_queue_len, rstate, verbose, pass_expr_memo_ctrl, catch_eval_exceptions, return_argmin, show_progressbar, early_stop_fn, trials_save_file)\u001b[0m\n\u001b[1;32m    680\u001b[0m         \u001b[0;32mfrom\u001b[0m \u001b[0;34m.\u001b[0m\u001b[0mfmin\u001b[0m \u001b[0;32mimport\u001b[0m \u001b[0mfmin\u001b[0m\u001b[0;34m\u001b[0m\u001b[0;34m\u001b[0m\u001b[0m\n\u001b[1;32m    681\u001b[0m \u001b[0;34m\u001b[0m\u001b[0m\n\u001b[0;32m--> 682\u001b[0;31m         return fmin(\n\u001b[0m\u001b[1;32m    683\u001b[0m             \u001b[0mfn\u001b[0m\u001b[0;34m,\u001b[0m\u001b[0;34m\u001b[0m\u001b[0;34m\u001b[0m\u001b[0m\n\u001b[1;32m    684\u001b[0m             \u001b[0mspace\u001b[0m\u001b[0;34m,\u001b[0m\u001b[0;34m\u001b[0m\u001b[0;34m\u001b[0m\u001b[0m\n",
      "\u001b[0;32m~/opt/anaconda3/envs/WeatherML/lib/python3.8/site-packages/hyperopt/fmin.py\u001b[0m in \u001b[0;36mfmin\u001b[0;34m(fn, space, algo, max_evals, timeout, loss_threshold, trials, rstate, allow_trials_fmin, pass_expr_memo_ctrl, catch_eval_exceptions, verbose, return_argmin, points_to_evaluate, max_queue_len, show_progressbar, early_stop_fn, trials_save_file)\u001b[0m\n\u001b[1;32m    551\u001b[0m \u001b[0;34m\u001b[0m\u001b[0m\n\u001b[1;32m    552\u001b[0m     \u001b[0;31m# next line is where the fmin is actually executed\u001b[0m\u001b[0;34m\u001b[0m\u001b[0;34m\u001b[0m\u001b[0;34m\u001b[0m\u001b[0m\n\u001b[0;32m--> 553\u001b[0;31m     \u001b[0mrval\u001b[0m\u001b[0;34m.\u001b[0m\u001b[0mexhaust\u001b[0m\u001b[0;34m(\u001b[0m\u001b[0;34m)\u001b[0m\u001b[0;34m\u001b[0m\u001b[0;34m\u001b[0m\u001b[0m\n\u001b[0m\u001b[1;32m    554\u001b[0m \u001b[0;34m\u001b[0m\u001b[0m\n\u001b[1;32m    555\u001b[0m     \u001b[0;32mif\u001b[0m \u001b[0mreturn_argmin\u001b[0m\u001b[0;34m:\u001b[0m\u001b[0;34m\u001b[0m\u001b[0;34m\u001b[0m\u001b[0m\n",
      "\u001b[0;32m~/opt/anaconda3/envs/WeatherML/lib/python3.8/site-packages/hyperopt/fmin.py\u001b[0m in \u001b[0;36mexhaust\u001b[0;34m(self)\u001b[0m\n\u001b[1;32m    354\u001b[0m     \u001b[0;32mdef\u001b[0m \u001b[0mexhaust\u001b[0m\u001b[0;34m(\u001b[0m\u001b[0mself\u001b[0m\u001b[0;34m)\u001b[0m\u001b[0;34m:\u001b[0m\u001b[0;34m\u001b[0m\u001b[0;34m\u001b[0m\u001b[0m\n\u001b[1;32m    355\u001b[0m         \u001b[0mn_done\u001b[0m \u001b[0;34m=\u001b[0m \u001b[0mlen\u001b[0m\u001b[0;34m(\u001b[0m\u001b[0mself\u001b[0m\u001b[0;34m.\u001b[0m\u001b[0mtrials\u001b[0m\u001b[0;34m)\u001b[0m\u001b[0;34m\u001b[0m\u001b[0;34m\u001b[0m\u001b[0m\n\u001b[0;32m--> 356\u001b[0;31m         \u001b[0mself\u001b[0m\u001b[0;34m.\u001b[0m\u001b[0mrun\u001b[0m\u001b[0;34m(\u001b[0m\u001b[0mself\u001b[0m\u001b[0;34m.\u001b[0m\u001b[0mmax_evals\u001b[0m \u001b[0;34m-\u001b[0m \u001b[0mn_done\u001b[0m\u001b[0;34m,\u001b[0m \u001b[0mblock_until_done\u001b[0m\u001b[0;34m=\u001b[0m\u001b[0mself\u001b[0m\u001b[0;34m.\u001b[0m\u001b[0masynchronous\u001b[0m\u001b[0;34m)\u001b[0m\u001b[0;34m\u001b[0m\u001b[0;34m\u001b[0m\u001b[0m\n\u001b[0m\u001b[1;32m    357\u001b[0m         \u001b[0mself\u001b[0m\u001b[0;34m.\u001b[0m\u001b[0mtrials\u001b[0m\u001b[0;34m.\u001b[0m\u001b[0mrefresh\u001b[0m\u001b[0;34m(\u001b[0m\u001b[0;34m)\u001b[0m\u001b[0;34m\u001b[0m\u001b[0;34m\u001b[0m\u001b[0m\n\u001b[1;32m    358\u001b[0m         \u001b[0;32mreturn\u001b[0m \u001b[0mself\u001b[0m\u001b[0;34m\u001b[0m\u001b[0;34m\u001b[0m\u001b[0m\n",
      "\u001b[0;32m~/opt/anaconda3/envs/WeatherML/lib/python3.8/site-packages/hyperopt/fmin.py\u001b[0m in \u001b[0;36mrun\u001b[0;34m(self, N, block_until_done)\u001b[0m\n\u001b[1;32m    290\u001b[0m                 \u001b[0;32melse\u001b[0m\u001b[0;34m:\u001b[0m\u001b[0;34m\u001b[0m\u001b[0;34m\u001b[0m\u001b[0m\n\u001b[1;32m    291\u001b[0m                     \u001b[0;31m# -- loop over trials and do the jobs directly\u001b[0m\u001b[0;34m\u001b[0m\u001b[0;34m\u001b[0m\u001b[0;34m\u001b[0m\u001b[0m\n\u001b[0;32m--> 292\u001b[0;31m                     \u001b[0mself\u001b[0m\u001b[0;34m.\u001b[0m\u001b[0mserial_evaluate\u001b[0m\u001b[0;34m(\u001b[0m\u001b[0;34m)\u001b[0m\u001b[0;34m\u001b[0m\u001b[0;34m\u001b[0m\u001b[0m\n\u001b[0m\u001b[1;32m    293\u001b[0m \u001b[0;34m\u001b[0m\u001b[0m\n\u001b[1;32m    294\u001b[0m                 \u001b[0mself\u001b[0m\u001b[0;34m.\u001b[0m\u001b[0mtrials\u001b[0m\u001b[0;34m.\u001b[0m\u001b[0mrefresh\u001b[0m\u001b[0;34m(\u001b[0m\u001b[0;34m)\u001b[0m\u001b[0;34m\u001b[0m\u001b[0;34m\u001b[0m\u001b[0m\n",
      "\u001b[0;32m~/opt/anaconda3/envs/WeatherML/lib/python3.8/site-packages/hyperopt/fmin.py\u001b[0m in \u001b[0;36mserial_evaluate\u001b[0;34m(self, N)\u001b[0m\n\u001b[1;32m    168\u001b[0m                 \u001b[0mctrl\u001b[0m \u001b[0;34m=\u001b[0m \u001b[0mbase\u001b[0m\u001b[0;34m.\u001b[0m\u001b[0mCtrl\u001b[0m\u001b[0;34m(\u001b[0m\u001b[0mself\u001b[0m\u001b[0;34m.\u001b[0m\u001b[0mtrials\u001b[0m\u001b[0;34m,\u001b[0m \u001b[0mcurrent_trial\u001b[0m\u001b[0;34m=\u001b[0m\u001b[0mtrial\u001b[0m\u001b[0;34m)\u001b[0m\u001b[0;34m\u001b[0m\u001b[0;34m\u001b[0m\u001b[0m\n\u001b[1;32m    169\u001b[0m                 \u001b[0;32mtry\u001b[0m\u001b[0;34m:\u001b[0m\u001b[0;34m\u001b[0m\u001b[0;34m\u001b[0m\u001b[0m\n\u001b[0;32m--> 170\u001b[0;31m                     \u001b[0mresult\u001b[0m \u001b[0;34m=\u001b[0m \u001b[0mself\u001b[0m\u001b[0;34m.\u001b[0m\u001b[0mdomain\u001b[0m\u001b[0;34m.\u001b[0m\u001b[0mevaluate\u001b[0m\u001b[0;34m(\u001b[0m\u001b[0mspec\u001b[0m\u001b[0;34m,\u001b[0m \u001b[0mctrl\u001b[0m\u001b[0;34m)\u001b[0m\u001b[0;34m\u001b[0m\u001b[0;34m\u001b[0m\u001b[0m\n\u001b[0m\u001b[1;32m    171\u001b[0m                 \u001b[0;32mexcept\u001b[0m \u001b[0mException\u001b[0m \u001b[0;32mas\u001b[0m \u001b[0me\u001b[0m\u001b[0;34m:\u001b[0m\u001b[0;34m\u001b[0m\u001b[0;34m\u001b[0m\u001b[0m\n\u001b[1;32m    172\u001b[0m                     \u001b[0mlogger\u001b[0m\u001b[0;34m.\u001b[0m\u001b[0merror\u001b[0m\u001b[0;34m(\u001b[0m\u001b[0;34m\"job exception: %s\"\u001b[0m \u001b[0;34m%\u001b[0m \u001b[0mstr\u001b[0m\u001b[0;34m(\u001b[0m\u001b[0me\u001b[0m\u001b[0;34m)\u001b[0m\u001b[0;34m)\u001b[0m\u001b[0;34m\u001b[0m\u001b[0;34m\u001b[0m\u001b[0m\n",
      "\u001b[0;32m~/opt/anaconda3/envs/WeatherML/lib/python3.8/site-packages/hyperopt/base.py\u001b[0m in \u001b[0;36mevaluate\u001b[0;34m(self, config, ctrl, attach_attachments)\u001b[0m\n\u001b[1;32m    905\u001b[0m                 \u001b[0mprint_node_on_error\u001b[0m\u001b[0;34m=\u001b[0m\u001b[0mself\u001b[0m\u001b[0;34m.\u001b[0m\u001b[0mrec_eval_print_node_on_error\u001b[0m\u001b[0;34m,\u001b[0m\u001b[0;34m\u001b[0m\u001b[0;34m\u001b[0m\u001b[0m\n\u001b[1;32m    906\u001b[0m             )\n\u001b[0;32m--> 907\u001b[0;31m             \u001b[0mrval\u001b[0m \u001b[0;34m=\u001b[0m \u001b[0mself\u001b[0m\u001b[0;34m.\u001b[0m\u001b[0mfn\u001b[0m\u001b[0;34m(\u001b[0m\u001b[0mpyll_rval\u001b[0m\u001b[0;34m)\u001b[0m\u001b[0;34m\u001b[0m\u001b[0;34m\u001b[0m\u001b[0m\n\u001b[0m\u001b[1;32m    908\u001b[0m \u001b[0;34m\u001b[0m\u001b[0m\n\u001b[1;32m    909\u001b[0m         \u001b[0;32mif\u001b[0m \u001b[0misinstance\u001b[0m\u001b[0;34m(\u001b[0m\u001b[0mrval\u001b[0m\u001b[0;34m,\u001b[0m \u001b[0;34m(\u001b[0m\u001b[0mfloat\u001b[0m\u001b[0;34m,\u001b[0m \u001b[0mint\u001b[0m\u001b[0;34m,\u001b[0m \u001b[0mnp\u001b[0m\u001b[0;34m.\u001b[0m\u001b[0mnumber\u001b[0m\u001b[0;34m)\u001b[0m\u001b[0;34m)\u001b[0m\u001b[0;34m:\u001b[0m\u001b[0;34m\u001b[0m\u001b[0;34m\u001b[0m\u001b[0m\n",
      "\u001b[0;32m~/Documents/Rice/Projects/Project_3/Project03_Team01/temp_model.py\u001b[0m in \u001b[0;36mkeras_fmin_fnct\u001b[0;34m(space)\u001b[0m\n",
      "\u001b[0;31mNameError\u001b[0m: name 'X_train' is not defined"
     ]
    }
   ],
   "source": [
    "\n",
    "\n",
    "if __name__ == '__main__':\n",
    "    X_train, y_train, X_test, y_test = data()\n",
    "    best_run, best_model = optim.minimize(model=create_model,\n",
    "                                          data=data,\n",
    "                                          algo=tpe.suggest,\n",
    "                                          max_evals=5,\n",
    "                                          trials=Trials(),\n",
    "                                          notebook_name = 'BlackBox')\n",
    "    \n",
    "    print('Evaluation of best performing model:')\n",
    "    print(best_model.evaluate(X_test, y_test))\n",
    "    print(\"Best Performing Model Hyper-Parameters:\")\n",
    "    print(best_run)"
   ]
  },
  {
   "cell_type": "code",
   "execution_count": null,
   "metadata": {},
   "outputs": [],
   "source": [
    "def data():\n",
    "    X_train = np.expand_dims(X_train, axis=1)\n",
    "    X_test = np.expand_dims(X_test, axis=1)\n",
    "    y_train = np.expand_dims(y_train, axis=1)\n",
    "    y_test = np.expand_dims(y_test, axis=1)\n",
    "    return X_train, y_train, X_test, y_test\n",
    "\n",
    "def create_model(X_train, y_train, X_test, y_test):\n",
    "    model = Sequential()\n",
    "    model.add(LSTM({{uniform(10,50)}}, \n",
    "            input_shape=(X_train.shape[1], \n",
    "            X_train.shape[2])\n",
    "            ))\n",
    "    model.add(Dense({{choice([10, 20, 50, 100])}}))\n",
    "    model.add(Dense(1))\n",
    "    model.compile(loss={{choice([\"mae\", 'categorical_crossentropy'])}}, \n",
    "                    optimizer={{choice([\"adam\", \"sgd\", \"rmsprop\"])}}, \n",
    "                    metrics=[\"mse\"])\n",
    "\n",
    "    score = model.evaluate(X_test, y_test, verbose=0)\n",
    "    accuracy = score[1]\n",
    "    return {'loss': -accuracy, 'status': STATUS_OK, 'model': model}"
   ]
  },
  {
   "cell_type": "code",
   "execution_count": null,
   "metadata": {},
   "outputs": [],
   "source": [
    "    best_run = optim.minimize(model=create_model,\n",
    "                                          data=data,\n",
    "                                          algo=tpe.suggest,\n",
    "                                          max_evals=5,\n",
    "                                          trials=Trials())"
   ]
  },
  {
   "cell_type": "code",
   "execution_count": null,
   "metadata": {},
   "outputs": [],
   "source": [
    "plt.plot(history.history[\"mse\"], label=\"train\")\n",
    "plt.plot(history.history[\"val_mse\"], label=\"test\")\n",
    "plt.legend()\n",
    "plt.title('Train vs. Test MSE')\n",
    "plt.show()"
   ]
  },
  {
   "cell_type": "code",
   "execution_count": null,
   "metadata": {},
   "outputs": [],
   "source": [
    "residual = pred - y_test\n",
    "plt.plot(residual)"
   ]
  },
  {
   "cell_type": "code",
   "execution_count": null,
   "metadata": {},
   "outputs": [],
   "source": [
    "plt.plot(residual[0:1000])"
   ]
  },
  {
   "cell_type": "code",
   "execution_count": null,
   "metadata": {},
   "outputs": [],
   "source": [
    "pred = model.predict(X_test)\n",
    "X_test_reshape = X_test.reshape((X_test.shape[0], X_test.shape[2]))\n",
    "inv = np.concatenate((pred, X_test_reshape[:, 1:]), axis=1)\n",
    "\n",
    "\n",
    "\n",
    "inv_scale = scaler.inverse_transform(inv)\n",
    "\n",
    "y_inv = np.concatenate((y_test, X_test_reshape[:, 1:]), axis=1)\n",
    "y_inv = scaler.inverse_transform(y_inv)\n",
    "y_inv\n",
    "\n",
    "# y_test.shape\n",
    "inv_scale[0].shape\n",
    "# scaler.inverse_transform(pred)\n",
    "predictions = pd.DataFrame({\"Prediction\": inv_scale[:,:1].flatten(), \"Actual\": y_inv[:,:1].flatten()})"
   ]
  },
  {
   "cell_type": "code",
   "execution_count": null,
   "metadata": {},
   "outputs": [],
   "source": [
    "predictions.head(50)"
   ]
  },
  {
   "cell_type": "code",
   "execution_count": null,
   "metadata": {},
   "outputs": [],
   "source": []
  }
 ],
 "metadata": {
  "kernelspec": {
   "name": "Python 3.8.5 64-bit ('WeatherML': conda)",
   "display_name": "Python 3.8.5 64-bit ('WeatherML': conda)",
   "metadata": {
    "interpreter": {
     "hash": "fa0a90ea388e647b6806305426e0b9939b78a8fc99087e1c6cd6e6ae226ce148"
    }
   }
  },
  "language_info": {
   "codemirror_mode": {
    "name": "ipython",
    "version": 3
   },
   "file_extension": ".py",
   "mimetype": "text/x-python",
   "name": "python",
   "nbconvert_exporter": "python",
   "pygments_lexer": "ipython3",
   "version": "3.8.5-final"
  }
 },
 "nbformat": 4,
 "nbformat_minor": 4
}