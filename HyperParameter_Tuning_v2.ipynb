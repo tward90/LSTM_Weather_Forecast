{
 "metadata": {
  "language_info": {
   "codemirror_mode": {
    "name": "ipython",
    "version": 3
   },
   "file_extension": ".py",
   "mimetype": "text/x-python",
   "name": "python",
   "nbconvert_exporter": "python",
   "pygments_lexer": "ipython3",
   "version": "3.8.5-final"
  },
  "orig_nbformat": 2,
  "kernelspec": {
   "name": "Python 3.8.5 64-bit ('WeatherML': conda)",
   "display_name": "Python 3.8.5 64-bit ('WeatherML': conda)",
   "metadata": {
    "interpreter": {
     "hash": "fa0a90ea388e647b6806305426e0b9939b78a8fc99087e1c6cd6e6ae226ce148"
    }
   }
  }
 },
 "nbformat": 4,
 "nbformat_minor": 2,
 "cells": [
  {
   "cell_type": "code",
   "execution_count": 1,
   "metadata": {},
   "outputs": [
    {
     "output_type": "stream",
     "name": "stderr",
     "text": [
      "Using TensorFlow backend.\n"
     ]
    }
   ],
   "source": [
    "import pandas as pd\n",
    "import numpy as np\n",
    "import tensorflow as tf\n",
    "from matplotlib import pyplot as plt\n",
    "from sklearn.preprocessing import LabelEncoder\n",
    "from sklearn.preprocessing import MinMaxScaler\n",
    "from sklearn.model_selection import train_test_split\n",
    "from sklearn.metrics import mean_squared_error\n",
    "from sklearn.preprocessing import StandardScaler\n",
    "from tensorflow.keras.models import Sequential\n",
    "from tensorflow.keras.layers import Dense\n",
    "from tensorflow.keras.layers import LSTM\n",
    "from tensorflow.keras.preprocessing import timeseries_dataset_from_array\n",
    "\n",
    "from hyperas import optim\n",
    "from hyperas.distributions import choice, uniform\n",
    "from hyperopt import Trials, STATUS_OK, tpe\n"
   ]
  },
  {
   "cell_type": "code",
   "execution_count": 2,
   "metadata": {},
   "outputs": [],
   "source": [
    "df = pd.read_csv(\"differenced_data.csv\")\n",
    "df.drop([\"Date\"], axis=1, inplace=True)"
   ]
  },
  {
   "cell_type": "code",
   "execution_count": 3,
   "metadata": {},
   "outputs": [],
   "source": [
    "train_df = df[0:int(len(df)*.7)]\n",
    "val_df = df[int(len(df)*.7):int(len(df)*.9)]\n",
    "test_df = df[int(len(df)*.9):]"
   ]
  },
  {
   "cell_type": "code",
   "execution_count": 4,
   "metadata": {},
   "outputs": [],
   "source": [
    "scaler = StandardScaler()\n",
    "scaler.fit(train_df)\n",
    "\n",
    "train_scaled = scaler.transform(train_df)\n",
    "val_scaled = scaler.transform(val_df)\n",
    "test_scaled = scaler.transform(test_df)"
   ]
  },
  {
   "cell_type": "code",
   "execution_count": 5,
   "metadata": {},
   "outputs": [],
   "source": [
    "# Various window parameters\n",
    "input_width = 6\n",
    "label_width = 6\n",
    "shift = 1\n",
    "label_columns = None\n",
    "\n",
    "column_indeces = {name: i for i, name in enumerate(train_df.columns)}\n",
    "if label_columns is not None:\n",
    "    label_column_indeces = {name: i for i, name in enumerate(label_columns)}\n",
    "\n",
    "window_size = input_width + shift\n",
    "\n",
    "input_slice = slice(0, input_width)\n",
    "input_indeces = np.arange(window_size)[input_slice]\n",
    "\n",
    "label_start = window_size - label_width\n",
    "label_slice = slice(label_start, None)\n",
    "label_indeces =  np.arange(window_size)[label_slice]"
   ]
  },
  {
   "cell_type": "code",
   "execution_count": 6,
   "metadata": {},
   "outputs": [],
   "source": [
    "def split_window(features):\n",
    "    inputs = features[:, input_slice, :]\n",
    "    labels = features[:, label_slice, :]\n",
    "    if label_columns:\n",
    "        labels = tf.stack([labels[:, :, column_indeces[name]] for name in label_columns], axis=1)\n",
    "\n",
    "    inputs.set_shape([None, input_width, None])\n",
    "    labels.set_shape([None, label_width, None])\n",
    "\n",
    "    return inputs, labels"
   ]
  },
  {
   "cell_type": "code",
   "execution_count": 7,
   "metadata": {},
   "outputs": [],
   "source": [
    "def make_dataset(data):\n",
    "    data = np.array(data, dtype=np.float32)\n",
    "    dset = timeseries_dataset_from_array(\n",
    "        data=data,\n",
    "        targets=None,\n",
    "        sequence_length=window_size,\n",
    "        sequence_stride=1,\n",
    "        shuffle=True,\n",
    "        batch_size=32\n",
    "    )\n",
    "\n",
    "    dset = dset.map(split_window)\n",
    "    return dset"
   ]
  },
  {
   "cell_type": "code",
   "execution_count": 8,
   "metadata": {},
   "outputs": [],
   "source": [
    "model_train = make_dataset(train_scaled)\n",
    "model_val = make_dataset(val_scaled)"
   ]
  },
  {
   "cell_type": "code",
   "execution_count": 12,
   "metadata": {},
   "outputs": [],
   "source": [
    "test = np.array(list(model_train.unbatch().as_numpy_iterator()))[:,0]"
   ]
  },
  {
   "cell_type": "code",
   "execution_count": 13,
   "metadata": {},
   "outputs": [
    {
     "output_type": "execute_result",
     "data": {
      "text/plain": [
       "(18991, 6, 12)"
      ]
     },
     "metadata": {},
     "execution_count": 13
    }
   ],
   "source": [
    "test.shape"
   ]
  },
  {
   "cell_type": "code",
   "execution_count": null,
   "metadata": {},
   "outputs": [],
   "source": []
  },
  {
   "cell_type": "code",
   "execution_count": 14,
   "metadata": {},
   "outputs": [],
   "source": [
    "    # X_train = np.array(list(model_train.as_numpy_iterator()))[:,0]\n",
    "    # X_train  = np.array(list(model_train.as_numpy_iterator()))[:,0].flatten()\n",
    "    X_train = np.array(list(model_train.unbatch().as_numpy_iterator()))[:,0]\n",
    "    # #594 batches with each batch containing an array of (32,6,12)\n",
    "\n",
    "    # y_train = np.array(list(model_train.as_numpy_iterator()))[:,1]\n",
    "    # y_train  = np.array(list(model_train.as_numpy_iterator()))[:,1].flatten()\n",
    "    y_train = np.array(list(model_train.unbatch().as_numpy_iterator()))[:,1]\n",
    "\n",
    "    # X_val = np.array(list(model_val.as_numpy_iterator()))[:,0]\n",
    "    # X_val = np.array(list(model_val.as_numpy_iterator()))[:,0].flatten()\n",
    "    X_val = np.array(list(model_val.unbatch().as_numpy_iterator()))[:,0]\n",
    "\n",
    "    # y_val = np.array(list(model_val.as_numpy_iterator()))[:,1]\n",
    "    # y_val = np.array(list(model_val.as_numpy_iterator()))[:,1].flatten()\n",
    "    y_val = np.array(list(model_val.unbatch().as_numpy_iterator()))[:,1]"
   ]
  },
  {
   "cell_type": "code",
   "execution_count": null,
   "metadata": {},
   "outputs": [],
   "source": [
    "X_train.unbatch"
   ]
  },
  {
   "cell_type": "code",
   "execution_count": null,
   "metadata": {},
   "outputs": [],
   "source": [
    "def data(X_train, y_train, X_val, y_val):\n",
    "\n",
    "    return X_train, y_train, X_val, y_val"
   ]
  },
  {
   "cell_type": "code",
   "execution_count": null,
   "metadata": {},
   "outputs": [],
   "source": [
    "def create_model(X_train, y_train, X_val, y_val):\n",
    "\n",
    "    model = Sequential()\n",
    "    model.add(LSTM({{choice([5, 10, 25, 50, 75, 100])}}, \n",
    "            input_shape=(X_train.shape[1], X_train.shape[2]))\n",
    "            )\n",
    "\n",
    "    model.add(Dense({{choice([10, 20, 50, 100])}}))\n",
    "    model.add(Dense(1))\n",
    "    model.compile(loss={{choice([\"mae\", \"mse\"])}}, \n",
    "                optimizer={{choice([\"adam\", \"sgd\", \"rmsprop\"])}}, \n",
    "                metrics=[\"mae\", \"mse\"]\n",
    "                )\n",
    "    e_stop =  tf.keras.callbacks.EarlyStopping(monitor=\"val_loss\", patience=3, mode=\"min\")\n",
    "\n",
    "    result = model.fit(X_train, y_train, epochs=25, batch_size=60, validation_split=0.1, verbose=2, callbacks = [e_stop], shuffle=False)\n",
    "\n",
    "    # print(result.history)\n",
    "\n",
    "    validation_loss = np.amin(result.history['val_loss'])\n",
    "    print('Best Validation loss of epoch:', validation_loss)\n",
    "    return {'loss': validation_loss, 'status': STATUS_OK, 'model':model}"
   ]
  },
  {
   "cell_type": "code",
   "execution_count": null,
   "metadata": {},
   "outputs": [],
   "source": [
    "best_run, best_model = optim.minimize(model=create_model,\n",
    "                                        data=data,\n",
    "                                        algo=tpe.suggest,\n",
    "                                        max_evals=5,\n",
    "                                        trials=Trials(),\n",
    "                                        notebook_name = 'HyperParameter_Tuning_v2')\n",
    "                                        \n",
    "X_train, y_train, X_val, y_val = data()\n",
    "print('Evaluation of best performing model:')\n",
    "print(best_model.evaluate(X_val, y_val))\n",
    "print(\"Best Performing Model Hyper-Parameters:\")\n",
    "print(best_run)"
   ]
  },
  {
   "cell_type": "code",
   "execution_count": null,
   "metadata": {},
   "outputs": [],
   "source": []
  }
 ]
}